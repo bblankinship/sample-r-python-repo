{
 "cells": [
  {
   "cell_type": "markdown",
   "id": "e9dad074",
   "metadata": {},
   "source": [
    "# Tutorial 1\n",
    "## Python workbook\n",
    "\n",
    "In this workbook we will be asked to complete a series of tasks to get you familiarized with the Jupyter Notebook IDE. This will prepare you for future tutorials. Complete the following tasks with your partner(s) or on your own if you are not able to join the tutorial sessions live. \n",
    "\n",
    "A Jupyter notebook is comprised of multiple cells. The two primary cell types are code cells and Markdown cells. Each cell can be run individually and in arbitrary order, or you can run all cells one after the other. \n",
    "\n",
    "* If you run a text cell, the markdown contained in that cell is rendered and displayed. \n",
    "* If you run a code cell, the code in that cell is executed on the current state of the notebook."
   ]
  },
  {
   "cell_type": "markdown",
   "id": "e455173f",
   "metadata": {},
   "source": [
    "## Task 1 \n",
    "\n",
    "You can run a selected cell by hitting `Shift + Enter` or clicking the `Play/Run`-Button in the toolbar.\n",
    "\n",
    "Go ahead and try to execute the below cell:"
   ]
  },
  {
   "cell_type": "code",
   "execution_count": null,
   "id": "0c172ec6",
   "metadata": {},
   "outputs": [],
   "source": [
    "print(\"Good work, I got executed!\")"
   ]
  },
  {
   "cell_type": "markdown",
   "id": "9b4647d7",
   "metadata": {},
   "source": [
    "To signal that the cell was run, the notebook will add a number in bracket `In [1]:` left of the cell's content. `In` stands for input, you could think of these labels as saying “kernel input 1, input 2,” and so on. This number increases with each run - we will see why this is information is important in the next step.\n",
    "\n",
    "In addition, the notebook will automatically highlight the next cell. This makes it easy to rapidly execute multiple cells one after the other:\n",
    "Go ahead, execute the following cells by quickly pressing `Shift+Enter` multiple times!"
   ]
  },
  {
   "cell_type": "code",
   "execution_count": null,
   "id": "56a71567",
   "metadata": {},
   "outputs": [],
   "source": [
    "print(\"First cell ran!\")"
   ]
  },
  {
   "cell_type": "code",
   "execution_count": null,
   "id": "d26f038c",
   "metadata": {},
   "outputs": [],
   "source": [
    "print(\"Second cell ran!\")"
   ]
  },
  {
   "cell_type": "code",
   "execution_count": null,
   "id": "c8d415b5",
   "metadata": {},
   "outputs": [],
   "source": [
    "print(\"Third cell ran!\")"
   ]
  },
  {
   "cell_type": "code",
   "execution_count": null,
   "id": "faf1a7c5",
   "metadata": {},
   "outputs": [],
   "source": [
    "print(\"Fourth cell ran!\")"
   ]
  },
  {
   "cell_type": "markdown",
   "id": "f0274556",
   "metadata": {},
   "source": [
    "*Note* You can also run a cell by pressing `Ctrl + Enter`. Try this above and see how it is different. \n",
    "\n",
    "To automatically execute all cells of the notebook sequentially, you can click on the fast-forward button in the toolbar. This restarts the kernel and reruns the whole notebook. "
   ]
  },
  {
   "cell_type": "markdown",
   "id": "54c7724c",
   "metadata": {},
   "source": [
    "## Task 2 \n",
    "\n",
    "Each notebook has a single state that is shared between all cells which is where code is executed, the **kernel**. In other words, a kernel's state persists over time. Whenever you execute a cell, it modifies that state by running functions and setting variable values. This means that we can import a Python package, define a function, or create an object in one cell and, after being executed, we can reference the package, function, or object in any other cell. This is the case regardless of the order of cells in your notebook - the important thing is the *order in which the cells were exectuted in the kernel* (which is where our handy input label can help us keep track). Usually, the cells of a notebook should be executed top-to-bottom, but that order has no influence on the program state: only the order of executions does!"
   ]
  },
  {
   "cell_type": "code",
   "execution_count": null,
   "id": "996e37b0",
   "metadata": {},
   "outputs": [],
   "source": [
    "# Cell A\n",
    "# Run me after the cell below\n",
    "x = 0"
   ]
  },
  {
   "cell_type": "code",
   "execution_count": null,
   "id": "04276464",
   "metadata": {},
   "outputs": [],
   "source": [
    "# Cell B\n",
    "# Run me first!\n",
    "x = 1"
   ]
  },
  {
   "cell_type": "code",
   "execution_count": null,
   "id": "5c1686c5",
   "metadata": {},
   "outputs": [],
   "source": [
    "# Cell C\n",
    "# Run me last\n",
    "print(f\"Value of x: {x}\")"
   ]
  },
  {
   "cell_type": "markdown",
   "id": "73f5b0ae",
   "metadata": {},
   "source": [
    "**What happened?** *Cell A* sets `x = 0` and *Cell B* sets `x = 1` afterwards. But the order of the cells is not important, rather the order in which you run them: Since you first ran *Cell B* and then *Cell A*, you first set `x = 1` and then `x = 0`, not the other way around. When you ran *Cell C* as last cell, it looked at the value of `x` in the global state and found `x = 0`."
   ]
  },
  {
   "cell_type": "markdown",
   "id": "c03de96e",
   "metadata": {},
   "source": [
    "## Task 3\n",
    "\n",
    "Use a keyboard shortcut to covert *Cell A* into a markdown cell instead of a code cell. \n",
    "\n",
    "*Hint* do not forget about the Notebook modes!\n",
    "\n",
    "*Hint 2* you can look up the list of keyboard shortcuts under help (there is also a keyboard shortcut for to pull up the keyboard shortcuts menu)"
   ]
  },
  {
   "cell_type": "markdown",
   "id": "2df65e64",
   "metadata": {},
   "source": [
    "## Task 4\n",
    "\n",
    "Run the code cell below: "
   ]
  },
  {
   "cell_type": "code",
   "execution_count": null,
   "id": "3fa14a0b",
   "metadata": {},
   "outputs": [],
   "source": [
    "# this code is shown as it takes longer to execute \n",
    "import time \n",
    "\n",
    "time.sleep(10)"
   ]
  },
  {
   "cell_type": "markdown",
   "id": "bc8b0f3f",
   "metadata": {},
   "source": [
    "The code above takes some time to execute. In the input to the left of the cell `In []` you will notice that a star appeared (`In [*]`), this means that the kernel is executing or the cell is currently running. You can interrupt the kernel by pressing `i` twice. Re-reun the cell above and try this! \n",
    "\n",
    "Next, insert a code chunk below this one using a keyboard shortcut. In that cell, pull up the interactive help systems using `help()` and find out what the `sleep` function does. "
   ]
  },
  {
   "cell_type": "markdown",
   "id": "a4b11ef4",
   "metadata": {},
   "source": [
    "## Task 5 \n",
    "\n",
    "Additionally, even a single cell's behavior can change if executed multiple times.\n",
    "\n",
    "The cell below tries to increase a variable `run_count` by 1. If the variable doesn't exist, it is initialized with 0. \n",
    "\n",
    "Run this cell multiple times: Click on it, press `Shift+Enter`, click on it again, and so on (or press `Ctrl+Enter`)"
   ]
  },
  {
   "cell_type": "code",
   "execution_count": null,
   "id": "6be11d18",
   "metadata": {},
   "outputs": [],
   "source": [
    "try:\n",
    "    run_count += 1\n",
    "except NameError:\n",
    "    run_count = 0\n",
    "\n",
    "print(f\"Value of run_count: {run_count}\")"
   ]
  },
  {
   "cell_type": "markdown",
   "id": "f48102b3",
   "metadata": {},
   "source": [
    "**What happened?** On the first execution, variable `run_count does` not exist and Python raises the `NameError`: this sets `run_count = 0`. In subsequent executions of the same cell, `run_count` does now exist and the cell increases its value by 1. The `print` statement tells you the current value of `run_count` at the end of each run. This small example shows how a single cell can depend on the global state and show different behavior across multiple executions — make sure to remember this when you play around with Notebooks. "
   ]
  },
  {
   "cell_type": "markdown",
   "id": "94f69375",
   "metadata": {},
   "source": [
    "### Key takeaways \n",
    "The two key things to remember from this are: (1) the order of cell execution is important when you start to experiment with notebooks. (2) a single cell may be executed multiple times and will always work on the current global state.\n",
    "\n",
    "After each time a code cell is run, the cell gets an increasing number in brackets left to it, for example `[4]:`. This number shows you the order in which the cells were run and makes it easy to check that everything was run in the order you intended."
   ]
  },
  {
   "cell_type": "markdown",
   "id": "64c2d6ca",
   "metadata": {},
   "source": [
    "## Task 6\n",
    "\n",
    "Edit the markdown cell above and reformat it so that the 2 key takeaways are in a formatted numbered list and the word 'two' is in bold, 'key' is in italics, and 'the' is strikedthrough"
   ]
  },
  {
   "cell_type": "markdown",
   "id": "e9f73d13",
   "metadata": {},
   "source": [
    "## Task 7\n",
    "\n",
    "Thus far I have been using `print` statements to show outputs. However, Jupyter notebooks will always display the value of the last statement in a code cell. Run the code cells below to see:"
   ]
  },
  {
   "cell_type": "code",
   "execution_count": null,
   "id": "d14cf25a",
   "metadata": {
    "scrolled": false
   },
   "outputs": [],
   "source": [
    "run_count"
   ]
  },
  {
   "cell_type": "code",
   "execution_count": null,
   "id": "3964cf56",
   "metadata": {},
   "outputs": [],
   "source": [
    "X"
   ]
  },
  {
   "cell_type": "markdown",
   "id": "602718fe",
   "metadata": {},
   "source": [
    "You will notice that `X` produced a NameError, this is because I used a capital X whereas the object we defined above was with a lower case x! This may seem quite trival, but it is *always* important to remember that Python (and R) are case-sensitive languages. So your code may be written correctly, but a small typo will throw a spanner in the works. Rerun the cell with a lower case `x`"
   ]
  },
  {
   "cell_type": "markdown",
   "id": "35b032f9",
   "metadata": {},
   "source": [
    "## Task 8 \n",
    "\n",
    "If you are confused about the notebook's state or something is not working as expected, you can reset the notebook's kernel by selecting \"Kernel\" in the menu bar and selecting \"Restart\" or pressing `0` twice. Why not try this now?  "
   ]
  },
  {
   "cell_type": "markdown",
   "id": "9810dc33",
   "metadata": {},
   "source": [
    "## Task 9 \n",
    "\n",
    "You can also insert images into notebooks via Markdown or code. There are at least 3 ways you can do this in Noteable. \n",
    "\n",
    "1. Insert an image via Markdown from a URL using the following code `![alternatvie text](URL-to-image)`\n",
    "2. Insert an image via Markdown from a local file using the following code `![alternative text](path to image.image extension)`\n",
    "3. Insert an image that is a local file via code. For this we use the `IPython.display` module and the `Image` function in particular\n",
    "\n",
    "Using Python code or Markdown (option 2 or 3), insert the Python logo into this notebook as an image. Next try via Markdown to insert an image from a URL\n",
    "\n",
    "*Hint 1* do not forget to put the image into your Noteable file space. It is good practice to have a folder called \"figures\" or something similiar to keep all figures so that your file space is organized. But note that if you do this, the file path needs to be updated accordingly. If you have any questions about this, ask one of the teaching team during the tutorial (or post on the discussion boards). \n",
    "\n",
    "*Hint 2* If you are trying option 2 and/or 3, make sure you are using appropriate cell types!\n",
    "\n",
    "*Hint 3* You can double-click on the image of the summer beach chairs to see the code if you are stuck on the URL option.\n"
   ]
  },
  {
   "cell_type": "code",
   "execution_count": null,
   "id": "93db817f",
   "metadata": {},
   "outputs": [],
   "source": [
    "# to insert an image using code we just first call the Image function into our global namespace\n",
    "# uncomment the code and fill in the appropriate file path information for the Python logo\n",
    "\n",
    "#from IPython.display import Image\n",
    "#Image(filename = \"image file path.image extension\")"
   ]
  },
  {
   "cell_type": "markdown",
   "id": "adf37400",
   "metadata": {},
   "source": [
    "![Summer beach chairs](https://images.unsplash.com/photo-1620127682229-33388276e540?ixlib=rb-4.0.3&ixid=M3wxMjA3fDB8MHxzZWFyY2h8Mnx8c3VtbWVyJTIwYmVhY2h8ZW58MHx8MHx8fDA%3D&w=1000&q=80)"
   ]
  },
  {
   "cell_type": "markdown",
   "id": "72112f4a",
   "metadata": {},
   "source": [
    "## Task 10 \n",
    "\n",
    "Save your notebook as a PDF and then shutdown your notebook as a PDF. \n"
   ]
  },
  {
   "cell_type": "markdown",
   "id": "6edc3a61",
   "metadata": {},
   "source": [
    "While it can take up space, it is good practice to finish a document calling the `session_info` function from the module of the same name, which lists all of the modules or packages you used, their versions, and more. Listing the version numbers of all loaded modules after importing them is a simple way to ensure a minimum level of reproducibility while requiring little additional effort. This practice is useful both when revisiting notebooks and when sharing them with colleagues.\n",
    "\n",
    "Because the `session_info` module is not already in Noteable, we first need to install it. Then we can import the module and use our function of interest. "
   ]
  },
  {
   "cell_type": "code",
   "execution_count": null,
   "id": "75d1c322",
   "metadata": {},
   "outputs": [],
   "source": [
    "pip install session_info"
   ]
  },
  {
   "cell_type": "code",
   "execution_count": null,
   "id": "4beedd9e",
   "metadata": {
    "scrolled": true
   },
   "outputs": [],
   "source": [
    "import session_info\n",
    "\n",
    "session_info.show()"
   ]
  },
  {
   "cell_type": "markdown",
   "id": "0a44fb6a",
   "metadata": {},
   "source": [
    "By fault the behaviour is to only show modules not in the standard library. Modules from the standard library can be included using `std_lib = True`. Addtionally, to include not only the explicitly imported modules, but also any dependencies they import internally, specify `dependencies = True`"
   ]
  },
  {
   "cell_type": "code",
   "execution_count": null,
   "id": "43367454",
   "metadata": {},
   "outputs": [],
   "source": [
    "session_info.show(std_lib = True, dependencies = True) "
   ]
  },
  {
   "cell_type": "markdown",
   "id": "2f418641",
   "metadata": {},
   "source": [
    "## Bonus task \n",
    "\n",
    "As I mentioned in the content this week, there is a \"Zen of Python\". Instead of putting this into a search engine, you can pull this up with the following code `import this` - give it a try! Add a code cell below this Markdown cell."
   ]
  },
  {
   "cell_type": "markdown",
   "id": "4d355556",
   "metadata": {},
   "source": [
    "Well done! You have completed all of the tasks for the Python notebook. If you have not done so yet, now move to the RMarkdown notebook. "
   ]
  },
  {
   "cell_type": "markdown",
   "id": "6549c01b",
   "metadata": {},
   "source": [
    "---\n",
    "*Dr. Brittany Blankinship (2024)*"
   ]
  }
 ],
 "metadata": {
  "kernelspec": {
   "display_name": "Python 3 (ipykernel)",
   "language": "python",
   "name": "python3"
  },
  "language_info": {
   "codemirror_mode": {
    "name": "ipython",
    "version": 3
   },
   "file_extension": ".py",
   "mimetype": "text/x-python",
   "name": "python",
   "nbconvert_exporter": "python",
   "pygments_lexer": "ipython3",
   "version": "3.9.13"
  }
 },
 "nbformat": 4,
 "nbformat_minor": 5
}
