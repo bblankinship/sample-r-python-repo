{
 "cells": [
  {
   "cell_type": "markdown",
   "id": "e9dad074",
   "metadata": {},
   "source": [
    "# Example\n",
    "## Python workbook\n",
    "\n",
    "In this workbook we will be asked to complete a series of tasks to get you familiarized with the Jupyter Notebook IDE. This will prepare you for future tutorials. Complete the following tasks with your partner(s) or on your own if you are not able to join the tutorial sessions live. \n",
    "\n",
    "A Jupyter notebook is comprised of multiple cells. The two primary cell types are code cells and Markdown cells. Each cell can be run individually and in arbitrary order, or you can run all cells one after the other. \n",
    "\n",
    "* If you run a text cell, the markdown contained in that cell is rendered and displayed. \n",
    "* If you run a code cell, the code in that cell is executed on the current state of the notebook."
   ]
  },
  {
   "cell_type": "markdown",
   "id": "e455173f",
   "metadata": {},
   "source": [
    "## Task 1 \n",
    "\n",
    "You can run a selected cell by hitting `Shift + Enter` or clicking the `Play/Run`-Button in the toolbar.\n",
    "\n",
    "Go ahead and try to execute the below cell:"
   ]
  },
  
